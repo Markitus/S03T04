{
 "cells": [
  {
   "cell_type": "markdown",
   "id": "baf5ed9c",
   "metadata": {},
   "source": [
    "# Exercici 1"
   ]
  },
  {
   "cell_type": "code",
   "execution_count": 17,
   "id": "72d41565",
   "metadata": {},
   "outputs": [
    {
     "name": "stdout",
     "output_type": "stream",
     "text": [
      "1\n",
      "3.3333333333333335\n",
      "3.5\n",
      "1\n",
      "5\n"
     ]
    }
   ],
   "source": [
    "import numpy as np \n",
    "\n",
    "arr = np.array([1, 2, 3, 4, 5, 5])\n",
    "\n",
    "print(np.mean(arr))\n",
    "print(np.median(arr))\n",
    "print(np.min(arr))\n",
    "print(np.max(arr))\n",
    "if np.size(np.shape(arr))>1:\n",
    "    print(\"Error!\")"
   ]
  },
  {
   "cell_type": "markdown",
   "id": "ffb9a077",
   "metadata": {},
   "source": [
    "# Exercici 2"
   ]
  },
  {
   "cell_type": "code",
   "execution_count": 19,
   "id": "bf615b07",
   "metadata": {},
   "outputs": [
    {
     "name": "stdout",
     "output_type": "stream",
     "text": [
      "[[ 8 77 18  1 87]\n",
      " [39  6 99 82 37]\n",
      " [52 69 50 83 56]\n",
      " [35 59 55  7 90]\n",
      " [20 91 24 63 13]]\n"
     ]
    }
   ],
   "source": [
    "from numpy import random\n",
    "\n",
    "x = random.randint(100, size=(5, 5))\n",
    "\n",
    "print(x) "
   ]
  },
  {
   "cell_type": "markdown",
   "id": "899be939",
   "metadata": {},
   "source": [
    "# Exercici 3"
   ]
  },
  {
   "cell_type": "code",
   "execution_count": 28,
   "id": "3e326a1d",
   "metadata": {},
   "outputs": [
    {
     "name": "stdout",
     "output_type": "stream",
     "text": [
      "[[51 23 99 89  5]\n",
      " [98 77 43 40 62]]\n",
      "[267 320]\n",
      "[149 100 142 129  67]\n"
     ]
    }
   ],
   "source": [
    "x = random.randint(100, size=(2, 5))\n",
    "print(x)\n",
    "print(np.sum([x[0],x[1]], axis=1))\n",
    "print(x[0]+x[1])"
   ]
  },
  {
   "cell_type": "markdown",
   "id": "8e66cd1e",
   "metadata": {},
   "source": [
    "# Exercici 4"
   ]
  },
  {
   "cell_type": "code",
   "execution_count": 34,
   "id": "af56884f",
   "metadata": {},
   "outputs": [
    {
     "name": "stdout",
     "output_type": "stream",
     "text": [
      "-0.7585915243761551\n"
     ]
    }
   ],
   "source": [
    "from scipy import stats\n",
    "\n",
    "x = [5,7,8,7,2,17,2,9,4,11,12,9,6]\n",
    "y = [99,86,87,88,111,86,103,87,94,78,77,85,86]\n",
    "\n",
    "slope, intercept, r, p, std_err = stats.linregress(x, y)\n",
    "\n",
    "print(r)"
   ]
  },
  {
   "cell_type": "code",
   "execution_count": null,
   "id": "762a5d78",
   "metadata": {},
   "outputs": [],
   "source": []
  }
 ],
 "metadata": {
  "kernelspec": {
   "display_name": "Python 3",
   "language": "python",
   "name": "python3"
  },
  "language_info": {
   "codemirror_mode": {
    "name": "ipython",
    "version": 3
   },
   "file_extension": ".py",
   "mimetype": "text/x-python",
   "name": "python",
   "nbconvert_exporter": "python",
   "pygments_lexer": "ipython3",
   "version": "3.8.8"
  }
 },
 "nbformat": 4,
 "nbformat_minor": 5
}
